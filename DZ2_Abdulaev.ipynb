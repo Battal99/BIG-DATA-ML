{
 "cells": [
  {
   "cell_type": "code",
   "execution_count": 2,
   "metadata": {},
   "outputs": [],
   "source": [
    "import csv\n",
    "import os\n",
    "import sys\n",
    "\n",
    "os.environ[\"SPARK_HOME\"]=\"/Users/batalabdulaev/BigData/spark/spark\"\n",
    "os.environ[\"PYSPARK_PYTHON\"]=\"/Library/Frameworks/Python.framework/Versions/3.8/bin/python3.8\"\n",
    "os.environ[\"PYSPARK_DRIVER_PYTHON\"]=\"/Library/Frameworks/Python.framework/Versions/3.8/bin/python3.8\"\n",
    "\n",
    "spark_home = os.environ.get(\"SPARK_HOME\")\n",
    "sys.path.insert(0, os.path.join(spark_home, \"python\"))\n",
    "sys.path.insert(0, os.path.join(spark_home, \"python/lib/py4j-0.10.7-src.zip\"))"
   ]
  },
  {
   "cell_type": "code",
   "execution_count": 3,
   "metadata": {},
   "outputs": [],
   "source": [
    "import pyspark\n",
    "from pyspark.sql import SparkSession, Row\n",
    "\n",
    "import pyspark.sql.functions as F\n",
    "from pyspark.sql.functions import round\n",
    "from pyspark.sql.types import (\n",
    "    StructType, \n",
    "    StructField, \n",
    "    StringType, \n",
    "    IntegerType, \n",
    "    DoubleType\n",
    ")"
   ]
  },
  {
   "cell_type": "code",
   "execution_count": 4,
   "metadata": {},
   "outputs": [],
   "source": [
    "import json\n",
    "import pandas as pd\n",
    "import geopandas as gpd\n",
    "from shapely.geometry import Point, Polygon, MultiPolygon\n",
    "from geopandas.tools import sjoin\n",
    "from pyspark.sql.functions import unix_timestamp\n",
    "import folium\n",
    "from folium.plugins import HeatMap, HeatMapWithTime"
   ]
  },
  {
   "cell_type": "code",
   "execution_count": 46,
   "metadata": {},
   "outputs": [],
   "source": [
    "from IPython.display import IFrame\n",
    "def embed_map(m):\n",
    "    m.save('index.html')\n",
    "    return IFrame('index.html', width='100%', height='750px')"
   ]
  },
  {
   "cell_type": "code",
   "execution_count": 6,
   "metadata": {},
   "outputs": [],
   "source": [
    "packages = \"graphframes:graphframes:0.8.1-spark2.4-s_2.11\""
   ]
  },
  {
   "cell_type": "code",
   "execution_count": 7,
   "metadata": {},
   "outputs": [],
   "source": [
    "conf = (\n",
    "    pyspark.SparkConf()\n",
    "        .set(\"spark.executor.memory\", \"1g\")\n",
    "        .set(\"spark.executor.core\", \"2\")\n",
    "        .set(\"spark.driver.host\", \"127.0.0.1\")  # if you have some troubles with address binding\n",
    "        .setMaster(\"local[2]\")\n",
    ")"
   ]
  },
  {
   "cell_type": "code",
   "execution_count": 8,
   "metadata": {},
   "outputs": [],
   "source": [
    "spark = SparkSession \\\n",
    "    .builder \\\n",
    "    .config(conf=conf) \\\n",
    "    .getOrCreate()"
   ]
  },
  {
   "cell_type": "code",
   "execution_count": 9,
   "metadata": {},
   "outputs": [
    {
     "data": {
      "text/html": [
       "\n",
       "        <div>\n",
       "            <p><b>SparkContext</b></p>\n",
       "\n",
       "            <p><a href=\"http://127.0.0.1:4040\">Spark UI</a></p>\n",
       "\n",
       "            <dl>\n",
       "              <dt>Version</dt>\n",
       "                <dd><code>v3.2.1</code></dd>\n",
       "              <dt>Master</dt>\n",
       "                <dd><code>local[2]</code></dd>\n",
       "              <dt>AppName</dt>\n",
       "                <dd><code>pyspark-shell</code></dd>\n",
       "            </dl>\n",
       "        </div>\n",
       "        "
      ],
      "text/plain": [
       "<SparkContext master=local[2] appName=pyspark-shell>"
      ]
     },
     "execution_count": 9,
     "metadata": {},
     "output_type": "execute_result"
    }
   ],
   "source": [
    "sc = spark.sparkContext\n",
    "sc"
   ]
  },
  {
   "cell_type": "markdown",
   "metadata": {},
   "source": [
    "1 ЗАДАНИЕ"
   ]
  },
  {
   "cell_type": "markdown",
   "metadata": {},
   "source": [
    "определите для каждой станции количество начала поездок и количество завершения поездок\n",
    "сопоставьте станции с кварталами города (zones) и определите суммы количества начала и завершения для каждого квартала\n",
    "выведите по убыванию количества поездок и\n",
    "отобразите в виде картограмм (Choropleth)."
   ]
  },
  {
   "cell_type": "code",
   "execution_count": 10,
   "metadata": {},
   "outputs": [],
   "source": [
    "BASE_PATH = \"/Users/batalabdulaev/BigData/datasets\"\n",
    "QUARTER_NYC = \"/Users/batalabdulaev/BigData/datasets/NYC Taxi Zones.geojson\""
   ]
  },
  {
   "cell_type": "code",
   "execution_count": 11,
   "metadata": {},
   "outputs": [],
   "source": [
    "trips_data_path =\"file://{}/201902-citibike-tripdata.csv\".format(BASE_PATH)"
   ]
  },
  {
   "cell_type": "code",
   "execution_count": 12,
   "metadata": {},
   "outputs": [
    {
     "name": "stdout",
     "output_type": "stream",
     "text": [
      "Total number of trips: 943744\n",
      "+------------+--------------------+--------------------+----------------+--------------------+----------------------+-----------------------+--------------+--------------------+--------------------+---------------------+------+----------+----------+------+\n",
      "|tripduration|           starttime|            stoptime|start station id|  start station name|start station latitude|start station longitude|end station id|    end station name|end station latitude|end station longitude|bikeid|  usertype|birth year|gender|\n",
      "+------------+--------------------+--------------------+----------------+--------------------+----------------------+-----------------------+--------------+--------------------+--------------------+---------------------+------+----------+----------+------+\n",
      "|         219|2019-02-01 00:00:...|2019-02-01 00:03:...|            3494|E 115 St & Lexing...|             40.797911|               -73.9423|          3501|E 118 St & Madiso...|          40.8014866|          -73.9442507| 33450|Subscriber|      1989|     1|\n",
      "|         143|2019-02-01 00:00:...|2019-02-01 00:02:...|             438| St Marks Pl & 1 Ave|           40.72779126|           -73.98564945|           236| St Marks Pl & 2 Ave|          40.7284186|         -73.98713956| 25626|Subscriber|      1990|     1|\n",
      "+------------+--------------------+--------------------+----------------+--------------------+----------------------+-----------------------+--------------+--------------------+--------------------+---------------------+------+----------+----------+------+\n",
      "only showing top 2 rows\n",
      "\n"
     ]
    }
   ],
   "source": [
    "df_trips = spark.read.load(trips_data_path, \n",
    "                           format=\"csv\", \n",
    "                           header=\"true\", \n",
    "                           inferSchema=\"true\",\n",
    "                           sep=\",\")\n",
    "\n",
    "print(\"Total number of trips:\", df_trips.count())\n",
    "df_trips.show(2)"
   ]
  },
  {
   "cell_type": "code",
   "execution_count": 13,
   "metadata": {},
   "outputs": [
    {
     "name": "stdout",
     "output_type": "stream",
     "text": [
      "root\n",
      " |-- tripduration: integer (nullable = true)\n",
      " |-- starttime: string (nullable = true)\n",
      " |-- stoptime: string (nullable = true)\n",
      " |-- start station id: string (nullable = true)\n",
      " |-- start station name: string (nullable = true)\n",
      " |-- start station latitude: double (nullable = true)\n",
      " |-- start station longitude: double (nullable = true)\n",
      " |-- end station id: string (nullable = true)\n",
      " |-- end station name: string (nullable = true)\n",
      " |-- end station latitude: double (nullable = true)\n",
      " |-- end station longitude: double (nullable = true)\n",
      " |-- bikeid: integer (nullable = true)\n",
      " |-- usertype: string (nullable = true)\n",
      " |-- birth year: integer (nullable = true)\n",
      " |-- gender: integer (nullable = true)\n",
      "\n"
     ]
    }
   ],
   "source": [
    "df_trips.printSchema()"
   ]
  },
  {
   "cell_type": "code",
   "execution_count": 23,
   "metadata": {},
   "outputs": [
    {
     "data": {
      "text/plain": [
       "StructType(List(StructField(tripduration,IntegerType,true),StructField(starttime,StringType,true),StructField(stoptime,StringType,true),StructField(start station id,StringType,true),StructField(start station name,StringType,true),StructField(start station latitude,DoubleType,true),StructField(start station longitude,DoubleType,true),StructField(end station id,StringType,true),StructField(end station name,StringType,true),StructField(end station latitude,DoubleType,true),StructField(end station longitude,DoubleType,true),StructField(bikeid,IntegerType,true),StructField(usertype,StringType,true),StructField(birth year,IntegerType,true),StructField(gender,IntegerType,true)))"
      ]
     },
     "execution_count": 23,
     "metadata": {},
     "output_type": "execute_result"
    }
   ],
   "source": [
    "df_trips.schema"
   ]
  },
  {
   "cell_type": "code",
   "execution_count": 24,
   "metadata": {},
   "outputs": [
    {
     "data": {
      "text/plain": [
       "['tripduration',\n",
       " 'starttime',\n",
       " 'stoptime',\n",
       " 'start station id',\n",
       " 'start station name',\n",
       " 'start station latitude',\n",
       " 'start station longitude',\n",
       " 'end station id',\n",
       " 'end station name',\n",
       " 'end station latitude',\n",
       " 'end station longitude',\n",
       " 'bikeid',\n",
       " 'usertype',\n",
       " 'birth year',\n",
       " 'gender']"
      ]
     },
     "execution_count": 24,
     "metadata": {},
     "output_type": "execute_result"
    }
   ],
   "source": [
    "df_trips.columns"
   ]
  },
  {
   "cell_type": "code",
   "execution_count": 25,
   "metadata": {},
   "outputs": [
    {
     "name": "stdout",
     "output_type": "stream",
     "text": [
      "+----+-------------+\n",
      "|s_id|Trips started|\n",
      "+----+-------------+\n",
      "| 296|         1795|\n",
      "|3606|          215|\n",
      "| 467|         1276|\n",
      "|3414|          656|\n",
      "|3368|          745|\n",
      "|3517|          299|\n",
      "|3441|          263|\n",
      "|3526|          604|\n",
      "| 447|         2512|\n",
      "|3312|          788|\n",
      "|3121|          291|\n",
      "|3249|          341|\n",
      "|3167|         2820|\n",
      "| 307|         3028|\n",
      "|3491|          398|\n",
      "|3057|          480|\n",
      "| 334|         2905|\n",
      "|3553|          798|\n",
      "|3241|          453|\n",
      "|3299|          256|\n",
      "+----+-------------+\n",
      "only showing top 20 rows\n",
      "\n"
     ]
    }
   ],
   "source": [
    "df_trips_started = df_trips.groupBy(\"start station id\")\\\n",
    "    .agg(F.count(\"start station id\")\\\n",
    "    .alias(\"Trips started\"))\\\n",
    "    .withColumnRenamed(\"start station id\", \"s_id\")\n",
    "df_trips_started.show()"
   ]
  },
  {
   "cell_type": "code",
   "execution_count": 26,
   "metadata": {},
   "outputs": [
    {
     "name": "stdout",
     "output_type": "stream",
     "text": [
      "+----+-----------+\n",
      "|s_id|Trips ended|\n",
      "+----+-----------+\n",
      "| 467|       1312|\n",
      "| 296|       1825|\n",
      "|3414|        681|\n",
      "|3606|        224|\n",
      "|3441|        268|\n",
      "|3368|        769|\n",
      "|3517|        301|\n",
      "|3526|        606|\n",
      "| 447|       2499|\n",
      "|3312|        791|\n",
      "|3249|        340|\n",
      "|3121|        295|\n",
      "|3167|       2693|\n",
      "|3491|        399|\n",
      "| 307|       3006|\n",
      "|3057|        451|\n",
      "| 334|       2912|\n",
      "|3241|        432|\n",
      "|3299|        262|\n",
      "|3553|        818|\n",
      "+----+-----------+\n",
      "only showing top 20 rows\n",
      "\n"
     ]
    }
   ],
   "source": [
    "df_trips_ended = df_trips.groupBy(\"end station id\")\\\n",
    "    .agg(F.count(\"end station id\")\\\n",
    "    .alias(\"Trips ended\"))\\\n",
    "    .withColumnRenamed(\"end station id\", \"s_id\")\n",
    "df_trips_ended.show()"
   ]
  },
  {
   "cell_type": "code",
   "execution_count": 27,
   "metadata": {},
   "outputs": [
    {
     "name": "stdout",
     "output_type": "stream",
     "text": [
      "+----+-------------+-----------+\n",
      "|s_id|Trips started|Trips ended|\n",
      "+----+-------------+-----------+\n",
      "| 119|          171|        217|\n",
      "| 120|          593|        524|\n",
      "| 127|         2940|       3010|\n",
      "| 128|         2639|       2671|\n",
      "| 143|         1387|       1380|\n",
      "| 144|          441|        513|\n",
      "| 146|         1656|       1673|\n",
      "| 150|         1753|       1664|\n",
      "| 151|         3771|       3802|\n",
      "| 157|         1129|       1163|\n",
      "| 161|         2602|       2617|\n",
      "| 164|         1862|       1860|\n",
      "| 167|         2663|       2658|\n",
      "| 168|         3738|       3741|\n",
      "| 173|         3701|       3732|\n",
      "| 174|         2445|       2413|\n",
      "| 195|         2340|       2289|\n",
      "|2000|         1344|       1537|\n",
      "|2002|         1783|       1866|\n",
      "|2003|         3182|       3174|\n",
      "+----+-------------+-----------+\n",
      "only showing top 20 rows\n",
      "\n"
     ]
    }
   ],
   "source": [
    "df_trips_all = df_trips_started.join(df_trips_ended, on=\"s_id\", how=\"outer\")\n",
    "df_trips_all.show()"
   ]
  },
  {
   "cell_type": "code",
   "execution_count": 28,
   "metadata": {},
   "outputs": [
    {
     "name": "stdout",
     "output_type": "stream",
     "text": [
      "root\n",
      " |-- start station id: string (nullable = true)\n",
      " |-- Trips started: long (nullable = false)\n",
      "\n"
     ]
    }
   ],
   "source": [
    "df_trips_started = df_trips_started.withColumnRenamed(\"s_id\",\"start station id\")\n",
    "df_trips_ended = df_trips_ended.withColumnRenamed(\"s_id\",\"end station id\")\n",
    "df_trips_started.printSchema()"
   ]
  },
  {
   "cell_type": "markdown",
   "metadata": {},
   "source": [
    "2 zadanie"
   ]
  },
  {
   "cell_type": "code",
   "execution_count": 29,
   "metadata": {},
   "outputs": [],
   "source": [
    "with open(QUARTER_NYC) as file:\n",
    "    zones_geojson = json.load(file)\n",
    "zones_geojson"
   ]
  },
  {
   "cell_type": "code",
   "execution_count": 32,
   "metadata": {},
   "outputs": [
    {
     "data": {
      "text/plain": [
       "['shape_area',\n",
       " 'objectid',\n",
       " 'shape_leng',\n",
       " 'location_id',\n",
       " 'zone',\n",
       " 'borough',\n",
       " 'geometry']"
      ]
     },
     "execution_count": 32,
     "metadata": {},
     "output_type": "execute_result"
    }
   ],
   "source": [
    "column_name_list = [i for i, _ in zones_geojson[\"features\"][0][\"properties\"].items()] + [\"geometry\"]\n",
    "column_name_list"
   ]
  },
  {
   "cell_type": "code",
   "execution_count": 35,
   "metadata": {},
   "outputs": [],
   "source": [
    "def make_rows_zone(data):\n",
    "    \n",
    "    for item in data:\n",
    "        arr_row = []\n",
    "        for key, value in item[\"properties\"].items():\n",
    "            arr_row.append(value) \n",
    "            \n",
    "        polygons = []\n",
    "        for polygon in item[\"geometry\"][\"coordinates\"]:\n",
    "            polygons.append(Polygon(polygon[0]))\n",
    "            \n",
    "        arr_row.append(MultiPolygon(polygons=polygons))\n",
    "        \n",
    "        yield arr_row"
   ]
  },
  {
   "cell_type": "code",
   "execution_count": 36,
   "metadata": {},
   "outputs": [
    {
     "name": "stderr",
     "output_type": "stream",
     "text": [
      "/Library/Frameworks/Python.framework/Versions/3.8/lib/python3.8/site-packages/pandas/core/dtypes/inference.py:420: ShapelyDeprecationWarning: Iteration over multi-part geometries is deprecated and will be removed in Shapely 2.0. Use the `geoms` property to access the constituent parts of a multi-part geometry.\n",
      "  iter(obj)  # Can iterate over it.\n",
      "/Library/Frameworks/Python.framework/Versions/3.8/lib/python3.8/site-packages/pandas/core/dtypes/inference.py:421: ShapelyDeprecationWarning: __len__ for multi-part geometries is deprecated and will be removed in Shapely 2.0. Check the length of the `geoms` property instead to get the  number of parts of a multi-part geometry.\n",
      "  len(obj)  # Has a length associated with it.\n",
      "/Library/Frameworks/Python.framework/Versions/3.8/lib/python3.8/site-packages/pandas/io/formats/printing.py:115: ShapelyDeprecationWarning: Iteration over multi-part geometries is deprecated and will be removed in Shapely 2.0. Use the `geoms` property to access the constituent parts of a multi-part geometry.\n",
      "  s = iter(seq)\n",
      "/Library/Frameworks/Python.framework/Versions/3.8/lib/python3.8/site-packages/pandas/io/formats/printing.py:119: ShapelyDeprecationWarning: __len__ for multi-part geometries is deprecated and will be removed in Shapely 2.0. Check the length of the `geoms` property instead to get the  number of parts of a multi-part geometry.\n",
      "  for i in range(min(nitems, len(seq)))\n",
      "/Library/Frameworks/Python.framework/Versions/3.8/lib/python3.8/site-packages/pandas/io/formats/printing.py:123: ShapelyDeprecationWarning: __len__ for multi-part geometries is deprecated and will be removed in Shapely 2.0. Check the length of the `geoms` property instead to get the  number of parts of a multi-part geometry.\n",
      "  if nitems < len(seq):\n",
      "/Library/Frameworks/Python.framework/Versions/3.8/lib/python3.8/site-packages/pandas/core/dtypes/inference.py:420: ShapelyDeprecationWarning: Iteration over multi-part geometries is deprecated and will be removed in Shapely 2.0. Use the `geoms` property to access the constituent parts of a multi-part geometry.\n",
      "  iter(obj)  # Can iterate over it.\n",
      "/Library/Frameworks/Python.framework/Versions/3.8/lib/python3.8/site-packages/pandas/core/dtypes/inference.py:421: ShapelyDeprecationWarning: __len__ for multi-part geometries is deprecated and will be removed in Shapely 2.0. Check the length of the `geoms` property instead to get the  number of parts of a multi-part geometry.\n",
      "  len(obj)  # Has a length associated with it.\n",
      "/Library/Frameworks/Python.framework/Versions/3.8/lib/python3.8/site-packages/pandas/io/formats/printing.py:115: ShapelyDeprecationWarning: Iteration over multi-part geometries is deprecated and will be removed in Shapely 2.0. Use the `geoms` property to access the constituent parts of a multi-part geometry.\n",
      "  s = iter(seq)\n",
      "/Library/Frameworks/Python.framework/Versions/3.8/lib/python3.8/site-packages/pandas/io/formats/printing.py:119: ShapelyDeprecationWarning: __len__ for multi-part geometries is deprecated and will be removed in Shapely 2.0. Check the length of the `geoms` property instead to get the  number of parts of a multi-part geometry.\n",
      "  for i in range(min(nitems, len(seq)))\n",
      "/Library/Frameworks/Python.framework/Versions/3.8/lib/python3.8/site-packages/pandas/io/formats/printing.py:123: ShapelyDeprecationWarning: __len__ for multi-part geometries is deprecated and will be removed in Shapely 2.0. Check the length of the `geoms` property instead to get the  number of parts of a multi-part geometry.\n",
      "  if nitems < len(seq):\n"
     ]
    },
    {
     "data": {
      "text/html": [
       "<div>\n",
       "<style scoped>\n",
       "    .dataframe tbody tr th:only-of-type {\n",
       "        vertical-align: middle;\n",
       "    }\n",
       "\n",
       "    .dataframe tbody tr th {\n",
       "        vertical-align: top;\n",
       "    }\n",
       "\n",
       "    .dataframe thead th {\n",
       "        text-align: right;\n",
       "    }\n",
       "</style>\n",
       "<table border=\"1\" class=\"dataframe\">\n",
       "  <thead>\n",
       "    <tr style=\"text-align: right;\">\n",
       "      <th></th>\n",
       "      <th>shape_area</th>\n",
       "      <th>objectid</th>\n",
       "      <th>shape_leng</th>\n",
       "      <th>location_id</th>\n",
       "      <th>zone</th>\n",
       "      <th>borough</th>\n",
       "      <th>geometry</th>\n",
       "    </tr>\n",
       "  </thead>\n",
       "  <tbody>\n",
       "    <tr>\n",
       "      <th>0</th>\n",
       "      <td>0.0007823067885</td>\n",
       "      <td>1</td>\n",
       "      <td>0.116357453189</td>\n",
       "      <td>1</td>\n",
       "      <td>Newark Airport</td>\n",
       "      <td>EWR</td>\n",
       "      <td>(POLYGON ((-74.18445299999996 40.6949959999999...</td>\n",
       "    </tr>\n",
       "    <tr>\n",
       "      <th>1</th>\n",
       "      <td>0.00486634037837</td>\n",
       "      <td>2</td>\n",
       "      <td>0.43346966679</td>\n",
       "      <td>2</td>\n",
       "      <td>Jamaica Bay</td>\n",
       "      <td>Queens</td>\n",
       "      <td>(POLYGON ((-73.82337597260663 40.6389870471767...</td>\n",
       "    </tr>\n",
       "    <tr>\n",
       "      <th>2</th>\n",
       "      <td>0.000314414156821</td>\n",
       "      <td>3</td>\n",
       "      <td>0.0843411059012</td>\n",
       "      <td>3</td>\n",
       "      <td>Allerton/Pelham Gardens</td>\n",
       "      <td>Bronx</td>\n",
       "      <td>(POLYGON ((-73.84792614099985 40.8713422339999...</td>\n",
       "    </tr>\n",
       "    <tr>\n",
       "      <th>3</th>\n",
       "      <td>0.000111871946192</td>\n",
       "      <td>4</td>\n",
       "      <td>0.0435665270921</td>\n",
       "      <td>4</td>\n",
       "      <td>Alphabet City</td>\n",
       "      <td>Manhattan</td>\n",
       "      <td>(POLYGON ((-73.97177410965318 40.7258212813370...</td>\n",
       "    </tr>\n",
       "    <tr>\n",
       "      <th>4</th>\n",
       "      <td>0.000497957489363</td>\n",
       "      <td>5</td>\n",
       "      <td>0.0921464898574</td>\n",
       "      <td>5</td>\n",
       "      <td>Arden Heights</td>\n",
       "      <td>Staten Island</td>\n",
       "      <td>(POLYGON ((-74.17421738099989 40.5625680859999...</td>\n",
       "    </tr>\n",
       "  </tbody>\n",
       "</table>\n",
       "</div>"
      ],
      "text/plain": [
       "          shape_area objectid       shape_leng location_id  \\\n",
       "0    0.0007823067885        1   0.116357453189           1   \n",
       "1   0.00486634037837        2    0.43346966679           2   \n",
       "2  0.000314414156821        3  0.0843411059012           3   \n",
       "3  0.000111871946192        4  0.0435665270921           4   \n",
       "4  0.000497957489363        5  0.0921464898574           5   \n",
       "\n",
       "                      zone        borough  \\\n",
       "0           Newark Airport            EWR   \n",
       "1              Jamaica Bay         Queens   \n",
       "2  Allerton/Pelham Gardens          Bronx   \n",
       "3            Alphabet City      Manhattan   \n",
       "4            Arden Heights  Staten Island   \n",
       "\n",
       "                                            geometry  \n",
       "0  (POLYGON ((-74.18445299999996 40.6949959999999...  \n",
       "1  (POLYGON ((-73.82337597260663 40.6389870471767...  \n",
       "2  (POLYGON ((-73.84792614099985 40.8713422339999...  \n",
       "3  (POLYGON ((-73.97177410965318 40.7258212813370...  \n",
       "4  (POLYGON ((-74.17421738099989 40.5625680859999...  "
      ]
     },
     "execution_count": 36,
     "metadata": {},
     "output_type": "execute_result"
    }
   ],
   "source": [
    "df_zones_pn = pd.DataFrame(make_rows_zone(zones_geojson[\"features\"]), columns=column_name_list)\n",
    "df_zones_pn.head(5)"
   ]
  },
  {
   "cell_type": "markdown",
   "metadata": {},
   "source": [
    "dataframe with zones"
   ]
  },
  {
   "cell_type": "code",
   "execution_count": 38,
   "metadata": {},
   "outputs": [
    {
     "name": "stderr",
     "output_type": "stream",
     "text": [
      "/Library/Frameworks/Python.framework/Versions/3.8/lib/python3.8/site-packages/geopandas/_vectorized.py:142: ShapelyDeprecationWarning: __len__ for multi-part geometries is deprecated and will be removed in Shapely 2.0. Check the length of the `geoms` property instead to get the  number of parts of a multi-part geometry.\n",
      "  aout[:] = out\n",
      "/Library/Frameworks/Python.framework/Versions/3.8/lib/python3.8/site-packages/geopandas/_vectorized.py:142: ShapelyDeprecationWarning: Iteration over multi-part geometries is deprecated and will be removed in Shapely 2.0. Use the `geoms` property to access the constituent parts of a multi-part geometry.\n",
      "  aout[:] = out\n"
     ]
    },
    {
     "data": {
      "text/html": [
       "<div>\n",
       "<style scoped>\n",
       "    .dataframe tbody tr th:only-of-type {\n",
       "        vertical-align: middle;\n",
       "    }\n",
       "\n",
       "    .dataframe tbody tr th {\n",
       "        vertical-align: top;\n",
       "    }\n",
       "\n",
       "    .dataframe thead th {\n",
       "        text-align: right;\n",
       "    }\n",
       "</style>\n",
       "<table border=\"1\" class=\"dataframe\">\n",
       "  <thead>\n",
       "    <tr style=\"text-align: right;\">\n",
       "      <th></th>\n",
       "      <th>shape_area</th>\n",
       "      <th>objectid</th>\n",
       "      <th>shape_leng</th>\n",
       "      <th>location_id</th>\n",
       "      <th>zone</th>\n",
       "      <th>borough</th>\n",
       "      <th>geometry</th>\n",
       "    </tr>\n",
       "  </thead>\n",
       "  <tbody>\n",
       "    <tr>\n",
       "      <th>0</th>\n",
       "      <td>0.0007823067885</td>\n",
       "      <td>1</td>\n",
       "      <td>0.116357453189</td>\n",
       "      <td>1</td>\n",
       "      <td>Newark Airport</td>\n",
       "      <td>EWR</td>\n",
       "      <td>MULTIPOLYGON (((-74.18445 40.69500, -74.18449 ...</td>\n",
       "    </tr>\n",
       "    <tr>\n",
       "      <th>1</th>\n",
       "      <td>0.00486634037837</td>\n",
       "      <td>2</td>\n",
       "      <td>0.43346966679</td>\n",
       "      <td>2</td>\n",
       "      <td>Jamaica Bay</td>\n",
       "      <td>Queens</td>\n",
       "      <td>MULTIPOLYGON (((-73.82338 40.63899, -73.82277 ...</td>\n",
       "    </tr>\n",
       "    <tr>\n",
       "      <th>2</th>\n",
       "      <td>0.000314414156821</td>\n",
       "      <td>3</td>\n",
       "      <td>0.0843411059012</td>\n",
       "      <td>3</td>\n",
       "      <td>Allerton/Pelham Gardens</td>\n",
       "      <td>Bronx</td>\n",
       "      <td>MULTIPOLYGON (((-73.84793 40.87134, -73.84725 ...</td>\n",
       "    </tr>\n",
       "    <tr>\n",
       "      <th>3</th>\n",
       "      <td>0.000111871946192</td>\n",
       "      <td>4</td>\n",
       "      <td>0.0435665270921</td>\n",
       "      <td>4</td>\n",
       "      <td>Alphabet City</td>\n",
       "      <td>Manhattan</td>\n",
       "      <td>MULTIPOLYGON (((-73.97177 40.72582, -73.97179 ...</td>\n",
       "    </tr>\n",
       "    <tr>\n",
       "      <th>4</th>\n",
       "      <td>0.000497957489363</td>\n",
       "      <td>5</td>\n",
       "      <td>0.0921464898574</td>\n",
       "      <td>5</td>\n",
       "      <td>Arden Heights</td>\n",
       "      <td>Staten Island</td>\n",
       "      <td>MULTIPOLYGON (((-74.17422 40.56257, -74.17349 ...</td>\n",
       "    </tr>\n",
       "    <tr>\n",
       "      <th>5</th>\n",
       "      <td>0.000606460984581</td>\n",
       "      <td>6</td>\n",
       "      <td>0.150490542523</td>\n",
       "      <td>6</td>\n",
       "      <td>Arrochar/Fort Wadsworth</td>\n",
       "      <td>Staten Island</td>\n",
       "      <td>MULTIPOLYGON (((-74.06367 40.60220, -74.06351 ...</td>\n",
       "    </tr>\n",
       "    <tr>\n",
       "      <th>6</th>\n",
       "      <td>0.000389787989274</td>\n",
       "      <td>7</td>\n",
       "      <td>0.107417171123</td>\n",
       "      <td>7</td>\n",
       "      <td>Astoria</td>\n",
       "      <td>Queens</td>\n",
       "      <td>MULTIPOLYGON (((-73.90414 40.76752, -73.90325 ...</td>\n",
       "    </tr>\n",
       "    <tr>\n",
       "      <th>7</th>\n",
       "      <td>0.000026587716279</td>\n",
       "      <td>8</td>\n",
       "      <td>0.0275906911574</td>\n",
       "      <td>8</td>\n",
       "      <td>Astoria Park</td>\n",
       "      <td>Queens</td>\n",
       "      <td>MULTIPOLYGON (((-73.92334 40.77513, -73.92398 ...</td>\n",
       "    </tr>\n",
       "    <tr>\n",
       "      <th>8</th>\n",
       "      <td>0.000338443803197</td>\n",
       "      <td>9</td>\n",
       "      <td>0.0997840924705</td>\n",
       "      <td>9</td>\n",
       "      <td>Auburndale</td>\n",
       "      <td>Queens</td>\n",
       "      <td>MULTIPOLYGON (((-73.78502 40.76104, -73.78486 ...</td>\n",
       "    </tr>\n",
       "    <tr>\n",
       "      <th>9</th>\n",
       "      <td>0.0000607235737749</td>\n",
       "      <td>24</td>\n",
       "      <td>0.0469999619287</td>\n",
       "      <td>24</td>\n",
       "      <td>Bloomingdale</td>\n",
       "      <td>Manhattan</td>\n",
       "      <td>MULTIPOLYGON (((-73.95954 40.79872, -73.96004 ...</td>\n",
       "    </tr>\n",
       "  </tbody>\n",
       "</table>\n",
       "</div>"
      ],
      "text/plain": [
       "           shape_area objectid       shape_leng location_id  \\\n",
       "0     0.0007823067885        1   0.116357453189           1   \n",
       "1    0.00486634037837        2    0.43346966679           2   \n",
       "2   0.000314414156821        3  0.0843411059012           3   \n",
       "3   0.000111871946192        4  0.0435665270921           4   \n",
       "4   0.000497957489363        5  0.0921464898574           5   \n",
       "5   0.000606460984581        6   0.150490542523           6   \n",
       "6   0.000389787989274        7   0.107417171123           7   \n",
       "7   0.000026587716279        8  0.0275906911574           8   \n",
       "8   0.000338443803197        9  0.0997840924705           9   \n",
       "9  0.0000607235737749       24  0.0469999619287          24   \n",
       "\n",
       "                      zone        borough  \\\n",
       "0           Newark Airport            EWR   \n",
       "1              Jamaica Bay         Queens   \n",
       "2  Allerton/Pelham Gardens          Bronx   \n",
       "3            Alphabet City      Manhattan   \n",
       "4            Arden Heights  Staten Island   \n",
       "5  Arrochar/Fort Wadsworth  Staten Island   \n",
       "6                  Astoria         Queens   \n",
       "7             Astoria Park         Queens   \n",
       "8               Auburndale         Queens   \n",
       "9             Bloomingdale      Manhattan   \n",
       "\n",
       "                                            geometry  \n",
       "0  MULTIPOLYGON (((-74.18445 40.69500, -74.18449 ...  \n",
       "1  MULTIPOLYGON (((-73.82338 40.63899, -73.82277 ...  \n",
       "2  MULTIPOLYGON (((-73.84793 40.87134, -73.84725 ...  \n",
       "3  MULTIPOLYGON (((-73.97177 40.72582, -73.97179 ...  \n",
       "4  MULTIPOLYGON (((-74.17422 40.56257, -74.17349 ...  \n",
       "5  MULTIPOLYGON (((-74.06367 40.60220, -74.06351 ...  \n",
       "6  MULTIPOLYGON (((-73.90414 40.76752, -73.90325 ...  \n",
       "7  MULTIPOLYGON (((-73.92334 40.77513, -73.92398 ...  \n",
       "8  MULTIPOLYGON (((-73.78502 40.76104, -73.78486 ...  \n",
       "9  MULTIPOLYGON (((-73.95954 40.79872, -73.96004 ...  "
      ]
     },
     "execution_count": 38,
     "metadata": {},
     "output_type": "execute_result"
    }
   ],
   "source": [
    "gdf_zones = gpd.GeoDataFrame(df_zones_pn, geometry=df_zones_pn[\"geometry\"])\n",
    "gdf_zones.head()"
   ]
  },
  {
   "cell_type": "code",
   "execution_count": 39,
   "metadata": {},
   "outputs": [
    {
     "name": "stdout",
     "output_type": "stream",
     "text": [
      "+----+--------------------+------------------+------------------+\n",
      "|s_id|        station_name|               lat|               lng|\n",
      "+----+--------------------+------------------+------------------+\n",
      "|3170|W 84 St & Columbu...|       40.78499979|      -73.97283406|\n",
      "|3236|  W 42 St & Dyer Ave| 40.75898481399634|-73.99379968643188|\n",
      "|3232| Bond St & Fulton St| 40.68962188790333|-73.98304268717766|\n",
      "| 437|Macon St & Nostra...|     40.6809833854|    -73.9500479759|\n",
      "| 517|Pershing Square S...|         40.751581|         -73.97791|\n",
      "|3256|Pier 40 - Hudson ...|  40.7277140777778|-74.01129573583603|\n",
      "|3063|Nostrand Ave & My...|       40.69527008|      -73.95238108|\n",
      "|3660|     W 16 St & 8 Ave|40.741021509002664|  -74.001384973526|\n",
      "|3686|Gansevoort St & H...|40.739448201304036|-74.00507032871246|\n",
      "| 341|Stanton St & Mang...|       40.71782143|      -73.97628939|\n",
      "| 223|     W 13 St & 7 Ave|       40.73781509|      -73.99994661|\n",
      "|3503|Madison Ave & E 1...|          40.80295|        -73.942954|\n",
      "|3431|     E 35 St & 3 Ave|         40.746524|        -73.977885|\n",
      "|3367|    5 Ave & E 103 St|        40.7922553|      -73.95249933|\n",
      "| 351|Front St & Maiden Ln|       40.70530954|      -74.00612572|\n",
      "|3286|     E 89 St & 3 Ave|        40.7806284|       -73.9521667|\n",
      "|3342|Pioneer St & Rich...|        40.6777748|       -74.0094613|\n",
      "|3555|      28 St & 41 Ave|         40.751047|         -73.93797|\n",
      "|3348|Coffey St & Conov...|         40.677236|        -74.015665|\n",
      "|3069|Lorimer St & Broa...|       40.70411791|      -73.94818595|\n",
      "+----+--------------------+------------------+------------------+\n",
      "only showing top 20 rows\n",
      "\n"
     ]
    }
   ],
   "source": [
    "df_stations_begin = df_trips.select(F.col(\"start station id\").alias(\"s_id\"),\n",
    "                                  F.col(\"start station name\").alias(\"station_name\"),\n",
    "                              F.col(\"start station latitude\").alias(\"lat\"), \n",
    "                              F.col(\"start station longitude\").alias(\"lng\"))\\\n",
    "                            .distinct()"
   ]
  },
  {
   "cell_type": "code",
   "execution_count": 42,
   "metadata": {},
   "outputs": [
    {
     "name": "stdout",
     "output_type": "stream",
     "text": [
      "+----+--------------------+------------------+------------------+\n",
      "|s_id|        station_name|               lat|               lng|\n",
      "+----+--------------------+------------------+------------------+\n",
      "|3170|W 84 St & Columbu...|       40.78499979|      -73.97283406|\n",
      "|3236|  W 42 St & Dyer Ave| 40.75898481399634|-73.99379968643188|\n",
      "|3232| Bond St & Fulton St| 40.68962188790333|-73.98304268717766|\n",
      "| 437|Macon St & Nostra...|     40.6809833854|    -73.9500479759|\n",
      "| 517|Pershing Square S...|         40.751581|         -73.97791|\n",
      "|3256|Pier 40 - Hudson ...|  40.7277140777778|-74.01129573583603|\n",
      "|3063|Nostrand Ave & My...|       40.69527008|      -73.95238108|\n",
      "|3660|     W 16 St & 8 Ave|40.741021509002664|  -74.001384973526|\n",
      "|3686|Gansevoort St & H...|40.739448201304036|-74.00507032871246|\n",
      "| 341|Stanton St & Mang...|       40.71782143|      -73.97628939|\n",
      "+----+--------------------+------------------+------------------+\n",
      "only showing top 10 rows\n",
      "\n"
     ]
    }
   ],
   "source": [
    "df_stations_end = df_trips.select(F.col(\"end station id\").alias(\"s_id\"),\n",
    "                                  F.col(\"end station name\").alias(\"station_name\"),\n",
    "                              F.col(\"end station latitude\").alias(\"lat\"), \n",
    "                              F.col(\"end station longitude\").alias(\"lng\"))\\\n",
    "                            .distinct()\n",
    "\n",
    "df_stations = df_stations_begin.union(df_stations_end).distinct().filter(F.col(\"s_id\")!=\"NULL\")\n",
    "\n",
    "df_stations.show(10)"
   ]
  },
  {
   "cell_type": "code",
   "execution_count": 40,
   "metadata": {},
   "outputs": [
    {
     "data": {
      "text/plain": [
       "<pyspark.broadcast.Broadcast at 0x7fee8a435550>"
      ]
     },
     "execution_count": 40,
     "metadata": {},
     "output_type": "execute_result"
    }
   ],
   "source": [
    "# bc_zones = spark.sparkContext.broadcast(gdf_zones)\n",
    "# # bc_zones"
   ]
  },
  {
   "cell_type": "code",
   "execution_count": 142,
   "metadata": {},
   "outputs": [
    {
     "data": {
      "text/html": [
       "<div>\n",
       "<style scoped>\n",
       "    .dataframe tbody tr th:only-of-type {\n",
       "        vertical-align: middle;\n",
       "    }\n",
       "\n",
       "    .dataframe tbody tr th {\n",
       "        vertical-align: top;\n",
       "    }\n",
       "\n",
       "    .dataframe thead th {\n",
       "        text-align: right;\n",
       "    }\n",
       "</style>\n",
       "<table border=\"1\" class=\"dataframe\">\n",
       "  <thead>\n",
       "    <tr style=\"text-align: right;\">\n",
       "      <th></th>\n",
       "      <th>s_id</th>\n",
       "      <th>station_name</th>\n",
       "      <th>lat</th>\n",
       "      <th>lng</th>\n",
       "    </tr>\n",
       "  </thead>\n",
       "  <tbody>\n",
       "    <tr>\n",
       "      <th>0</th>\n",
       "      <td>3170</td>\n",
       "      <td>W 84 St &amp; Columbus Ave</td>\n",
       "      <td>40.785000</td>\n",
       "      <td>-73.972834</td>\n",
       "    </tr>\n",
       "    <tr>\n",
       "      <th>1</th>\n",
       "      <td>3236</td>\n",
       "      <td>W 42 St &amp; Dyer Ave</td>\n",
       "      <td>40.758985</td>\n",
       "      <td>-73.993800</td>\n",
       "    </tr>\n",
       "    <tr>\n",
       "      <th>2</th>\n",
       "      <td>3232</td>\n",
       "      <td>Bond St &amp; Fulton St</td>\n",
       "      <td>40.689622</td>\n",
       "      <td>-73.983043</td>\n",
       "    </tr>\n",
       "    <tr>\n",
       "      <th>3</th>\n",
       "      <td>437</td>\n",
       "      <td>Macon St &amp; Nostrand Ave</td>\n",
       "      <td>40.680983</td>\n",
       "      <td>-73.950048</td>\n",
       "    </tr>\n",
       "    <tr>\n",
       "      <th>4</th>\n",
       "      <td>517</td>\n",
       "      <td>Pershing Square South</td>\n",
       "      <td>40.751581</td>\n",
       "      <td>-73.977910</td>\n",
       "    </tr>\n",
       "    <tr>\n",
       "      <th>...</th>\n",
       "      <td>...</td>\n",
       "      <td>...</td>\n",
       "      <td>...</td>\n",
       "      <td>...</td>\n",
       "    </tr>\n",
       "    <tr>\n",
       "      <th>765</th>\n",
       "      <td>3338</td>\n",
       "      <td>2 Ave &amp; E 99 St</td>\n",
       "      <td>40.786259</td>\n",
       "      <td>-73.945526</td>\n",
       "    </tr>\n",
       "    <tr>\n",
       "      <th>766</th>\n",
       "      <td>3105</td>\n",
       "      <td>N 15 St &amp; Wythe Ave</td>\n",
       "      <td>40.724055</td>\n",
       "      <td>-73.955736</td>\n",
       "    </tr>\n",
       "    <tr>\n",
       "      <th>767</th>\n",
       "      <td>3639</td>\n",
       "      <td>Harborside</td>\n",
       "      <td>40.719252</td>\n",
       "      <td>-74.034234</td>\n",
       "    </tr>\n",
       "    <tr>\n",
       "      <th>768</th>\n",
       "      <td>3214</td>\n",
       "      <td>Essex Light Rail</td>\n",
       "      <td>40.712774</td>\n",
       "      <td>-74.036486</td>\n",
       "    </tr>\n",
       "    <tr>\n",
       "      <th>769</th>\n",
       "      <td>3196</td>\n",
       "      <td>Riverview Park</td>\n",
       "      <td>40.744319</td>\n",
       "      <td>-74.043991</td>\n",
       "    </tr>\n",
       "  </tbody>\n",
       "</table>\n",
       "<p>770 rows × 4 columns</p>\n",
       "</div>"
      ],
      "text/plain": [
       "     s_id             station_name        lat        lng\n",
       "0    3170   W 84 St & Columbus Ave  40.785000 -73.972834\n",
       "1    3236       W 42 St & Dyer Ave  40.758985 -73.993800\n",
       "2    3232      Bond St & Fulton St  40.689622 -73.983043\n",
       "3     437  Macon St & Nostrand Ave  40.680983 -73.950048\n",
       "4     517    Pershing Square South  40.751581 -73.977910\n",
       "..    ...                      ...        ...        ...\n",
       "765  3338          2 Ave & E 99 St  40.786259 -73.945526\n",
       "766  3105      N 15 St & Wythe Ave  40.724055 -73.955736\n",
       "767  3639               Harborside  40.719252 -74.034234\n",
       "768  3214         Essex Light Rail  40.712774 -74.036486\n",
       "769  3196           Riverview Park  40.744319 -74.043991\n",
       "\n",
       "[770 rows x 4 columns]"
      ]
     },
     "execution_count": 142,
     "metadata": {},
     "output_type": "execute_result"
    }
   ],
   "source": [
    "df_stations_pn = df_stations.toPandas()\n",
    "df_stations_pn"
   ]
  },
  {
   "cell_type": "code",
   "execution_count": 143,
   "metadata": {},
   "outputs": [
    {
     "data": {
      "text/html": [
       "<div>\n",
       "<style scoped>\n",
       "    .dataframe tbody tr th:only-of-type {\n",
       "        vertical-align: middle;\n",
       "    }\n",
       "\n",
       "    .dataframe tbody tr th {\n",
       "        vertical-align: top;\n",
       "    }\n",
       "\n",
       "    .dataframe thead th {\n",
       "        text-align: right;\n",
       "    }\n",
       "</style>\n",
       "<table border=\"1\" class=\"dataframe\">\n",
       "  <thead>\n",
       "    <tr style=\"text-align: right;\">\n",
       "      <th></th>\n",
       "      <th>s_id</th>\n",
       "      <th>station_name</th>\n",
       "      <th>lat</th>\n",
       "      <th>lng</th>\n",
       "      <th>geometry</th>\n",
       "    </tr>\n",
       "  </thead>\n",
       "  <tbody>\n",
       "    <tr>\n",
       "      <th>0</th>\n",
       "      <td>3170</td>\n",
       "      <td>W 84 St &amp; Columbus Ave</td>\n",
       "      <td>40.785000</td>\n",
       "      <td>-73.972834</td>\n",
       "      <td>POINT (-73.97283 40.78500)</td>\n",
       "    </tr>\n",
       "    <tr>\n",
       "      <th>1</th>\n",
       "      <td>3236</td>\n",
       "      <td>W 42 St &amp; Dyer Ave</td>\n",
       "      <td>40.758985</td>\n",
       "      <td>-73.993800</td>\n",
       "      <td>POINT (-73.99380 40.75898)</td>\n",
       "    </tr>\n",
       "    <tr>\n",
       "      <th>2</th>\n",
       "      <td>3232</td>\n",
       "      <td>Bond St &amp; Fulton St</td>\n",
       "      <td>40.689622</td>\n",
       "      <td>-73.983043</td>\n",
       "      <td>POINT (-73.98304 40.68962)</td>\n",
       "    </tr>\n",
       "    <tr>\n",
       "      <th>3</th>\n",
       "      <td>437</td>\n",
       "      <td>Macon St &amp; Nostrand Ave</td>\n",
       "      <td>40.680983</td>\n",
       "      <td>-73.950048</td>\n",
       "      <td>POINT (-73.95005 40.68098)</td>\n",
       "    </tr>\n",
       "    <tr>\n",
       "      <th>4</th>\n",
       "      <td>517</td>\n",
       "      <td>Pershing Square South</td>\n",
       "      <td>40.751581</td>\n",
       "      <td>-73.977910</td>\n",
       "      <td>POINT (-73.97791 40.75158)</td>\n",
       "    </tr>\n",
       "  </tbody>\n",
       "</table>\n",
       "</div>"
      ],
      "text/plain": [
       "   s_id             station_name        lat        lng  \\\n",
       "0  3170   W 84 St & Columbus Ave  40.785000 -73.972834   \n",
       "1  3236       W 42 St & Dyer Ave  40.758985 -73.993800   \n",
       "2  3232      Bond St & Fulton St  40.689622 -73.983043   \n",
       "3   437  Macon St & Nostrand Ave  40.680983 -73.950048   \n",
       "4   517    Pershing Square South  40.751581 -73.977910   \n",
       "\n",
       "                     geometry  \n",
       "0  POINT (-73.97283 40.78500)  \n",
       "1  POINT (-73.99380 40.75898)  \n",
       "2  POINT (-73.98304 40.68962)  \n",
       "3  POINT (-73.95005 40.68098)  \n",
       "4  POINT (-73.97791 40.75158)  "
      ]
     },
     "execution_count": 143,
     "metadata": {},
     "output_type": "execute_result"
    }
   ],
   "source": [
    "points = gpd.GeoDataFrame(df_stations_pn,\n",
    "                          geometry=gpd.points_from_xy(df_stations_pn[\"lng\"], \n",
    "                                                      df_stations_pn[\"lat\"]))\n",
    "points.head()"
   ]
  },
  {
   "cell_type": "code",
   "execution_count": 144,
   "metadata": {},
   "outputs": [
    {
     "data": {
      "text/html": [
       "<div>\n",
       "<style scoped>\n",
       "    .dataframe tbody tr th:only-of-type {\n",
       "        vertical-align: middle;\n",
       "    }\n",
       "\n",
       "    .dataframe tbody tr th {\n",
       "        vertical-align: top;\n",
       "    }\n",
       "\n",
       "    .dataframe thead th {\n",
       "        text-align: right;\n",
       "    }\n",
       "</style>\n",
       "<table border=\"1\" class=\"dataframe\">\n",
       "  <thead>\n",
       "    <tr style=\"text-align: right;\">\n",
       "      <th></th>\n",
       "      <th>s_id</th>\n",
       "      <th>station_name</th>\n",
       "      <th>lat</th>\n",
       "      <th>lng</th>\n",
       "      <th>geometry</th>\n",
       "      <th>index_right</th>\n",
       "      <th>shape_area</th>\n",
       "      <th>objectid</th>\n",
       "      <th>shape_leng</th>\n",
       "      <th>location_id</th>\n",
       "      <th>zone</th>\n",
       "      <th>borough</th>\n",
       "    </tr>\n",
       "  </thead>\n",
       "  <tbody>\n",
       "    <tr>\n",
       "      <th>0</th>\n",
       "      <td>3170</td>\n",
       "      <td>W 84 St &amp; Columbus Ave</td>\n",
       "      <td>40.785000</td>\n",
       "      <td>-73.972834</td>\n",
       "      <td>POINT (-73.97283 40.78500)</td>\n",
       "      <td>231.0</td>\n",
       "      <td>0.000204715440774</td>\n",
       "      <td>239</td>\n",
       "      <td>0.0636261152958</td>\n",
       "      <td>239</td>\n",
       "      <td>Upper West Side South</td>\n",
       "      <td>Manhattan</td>\n",
       "    </tr>\n",
       "    <tr>\n",
       "      <th>1</th>\n",
       "      <td>3236</td>\n",
       "      <td>W 42 St &amp; Dyer Ave</td>\n",
       "      <td>40.758985</td>\n",
       "      <td>-73.993800</td>\n",
       "      <td>POINT (-73.99380 40.75898)</td>\n",
       "      <td>47.0</td>\n",
       "      <td>0.0000942538425377</td>\n",
       "      <td>48</td>\n",
       "      <td>0.0437467441431</td>\n",
       "      <td>48</td>\n",
       "      <td>Clinton East</td>\n",
       "      <td>Manhattan</td>\n",
       "    </tr>\n",
       "    <tr>\n",
       "      <th>2</th>\n",
       "      <td>3232</td>\n",
       "      <td>Bond St &amp; Fulton St</td>\n",
       "      <td>40.689622</td>\n",
       "      <td>-73.983043</td>\n",
       "      <td>POINT (-73.98304 40.68962)</td>\n",
       "      <td>15.0</td>\n",
       "      <td>0.000124168267356</td>\n",
       "      <td>25</td>\n",
       "      <td>0.0471458199319</td>\n",
       "      <td>25</td>\n",
       "      <td>Boerum Hill</td>\n",
       "      <td>Brooklyn</td>\n",
       "    </tr>\n",
       "    <tr>\n",
       "      <th>3</th>\n",
       "      <td>437</td>\n",
       "      <td>Macon St &amp; Nostrand Ave</td>\n",
       "      <td>40.680983</td>\n",
       "      <td>-73.950048</td>\n",
       "      <td>POINT (-73.95005 40.68098)</td>\n",
       "      <td>21.0</td>\n",
       "      <td>0.000322957654799</td>\n",
       "      <td>17</td>\n",
       "      <td>0.093522632948</td>\n",
       "      <td>17</td>\n",
       "      <td>Bedford</td>\n",
       "      <td>Brooklyn</td>\n",
       "    </tr>\n",
       "    <tr>\n",
       "      <th>4</th>\n",
       "      <td>517</td>\n",
       "      <td>Pershing Square South</td>\n",
       "      <td>40.751581</td>\n",
       "      <td>-73.977910</td>\n",
       "      <td>POINT (-73.97791 40.75158)</td>\n",
       "      <td>164.0</td>\n",
       "      <td>0.0000743150675972</td>\n",
       "      <td>170</td>\n",
       "      <td>0.0457690091051</td>\n",
       "      <td>170</td>\n",
       "      <td>Murray Hill</td>\n",
       "      <td>Manhattan</td>\n",
       "    </tr>\n",
       "  </tbody>\n",
       "</table>\n",
       "</div>"
      ],
      "text/plain": [
       "   s_id             station_name        lat        lng  \\\n",
       "0  3170   W 84 St & Columbus Ave  40.785000 -73.972834   \n",
       "1  3236       W 42 St & Dyer Ave  40.758985 -73.993800   \n",
       "2  3232      Bond St & Fulton St  40.689622 -73.983043   \n",
       "3   437  Macon St & Nostrand Ave  40.680983 -73.950048   \n",
       "4   517    Pershing Square South  40.751581 -73.977910   \n",
       "\n",
       "                     geometry  index_right          shape_area objectid  \\\n",
       "0  POINT (-73.97283 40.78500)        231.0   0.000204715440774      239   \n",
       "1  POINT (-73.99380 40.75898)         47.0  0.0000942538425377       48   \n",
       "2  POINT (-73.98304 40.68962)         15.0   0.000124168267356       25   \n",
       "3  POINT (-73.95005 40.68098)         21.0   0.000322957654799       17   \n",
       "4  POINT (-73.97791 40.75158)        164.0  0.0000743150675972      170   \n",
       "\n",
       "        shape_leng location_id                   zone    borough  \n",
       "0  0.0636261152958         239  Upper West Side South  Manhattan  \n",
       "1  0.0437467441431          48           Clinton East  Manhattan  \n",
       "2  0.0471458199319          25            Boerum Hill   Brooklyn  \n",
       "3   0.093522632948          17                Bedford   Brooklyn  \n",
       "4  0.0457690091051         170            Murray Hill  Manhattan  "
      ]
     },
     "execution_count": 144,
     "metadata": {},
     "output_type": "execute_result"
    }
   ],
   "source": [
    "sz = sjoin(points, gdf_zones, how=\"left\")\n",
    "sz.head()"
   ]
  },
  {
   "cell_type": "code",
   "execution_count": 40,
   "metadata": {},
   "outputs": [],
   "source": [
    "#"
   ]
  },
  {
   "cell_type": "code",
   "execution_count": 47,
   "metadata": {},
   "outputs": [],
   "source": [
    "sz_DataF = pd.DataFrame(sz)\n",
    "SZsparkDF=spark.createDataFrame(sz_DataF.astype(str))"
   ]
  },
  {
   "cell_type": "code",
   "execution_count": 48,
   "metadata": {},
   "outputs": [
    {
     "name": "stdout",
     "output_type": "stream",
     "text": [
      "+----+--------------------+----+-------------+-----------+-----------+--------------------+\n",
      "|s_id|        station_name|s_id|Trips started|Trips ended|location_id|                zone|\n",
      "+----+--------------------+----+-------------+-----------+-----------+--------------------+\n",
      "| 146|Hudson St & Reade St| 146|         1656|       1673|        231|TriBeCa/Civic Center|\n",
      "| 120|Lexington Ave & C...| 120|          593|        524|         17|             Bedford|\n",
      "| 128|MacDougal St & Pr...| 128|         2639|       2671|        125|           Hudson Sq|\n",
      "| 144| Nassau St & Navy St| 144|          441|        513|         66|  DUMBO/Vinegar Hill|\n",
      "| 150|   E 2 St & Avenue C| 150|         1753|       1664|          4|       Alphabet City|\n",
      "| 143|Clinton St & Jora...| 143|         1387|       1380|         33|    Brooklyn Heights|\n",
      "| 127|Barrow St & Hudso...| 127|         2940|       3010|        158|Meatpacking/West ...|\n",
      "| 157|Henry St & Atlant...| 157|         1129|       1163|         33|    Brooklyn Heights|\n",
      "| 161|LaGuardia Pl & W ...| 161|         2602|       2617|        114|Greenwich Village...|\n",
      "| 151|Cleveland Pl & Sp...| 151|         3771|       3802|        144| Little Italy/NoLiTa|\n",
      "+----+--------------------+----+-------------+-----------+-----------+--------------------+\n",
      "only showing top 10 rows\n",
      "\n"
     ]
    }
   ],
   "source": [
    "szJoin = df_trips_all.join(SZsparkDF, on=\"s_id\", how=\"left\")\\\n",
    "    .select(\"s_id\",\"station_name\",\"s_id\",\"Trips started\",\"Trips ended\"\\\n",
    "           ,\"location_id\",\"zone\")\n",
    "szJoin.show(10)"
   ]
  },
  {
   "cell_type": "code",
   "execution_count": 49,
   "metadata": {},
   "outputs": [
    {
     "name": "stdout",
     "output_type": "stream",
     "text": [
      "+--------------------+-----------+-----------------------+---------------------+\n",
      "|                zone|location_id|Total zone trips starts|Total zone trips ends|\n",
      "+--------------------+-----------+-----------------------+---------------------+\n",
      "|   East Harlem North|         74|                   7835|                 7889|\n",
      "|Long Island City/...|        146|                   2614|                 2569|\n",
      "|Meatpacking/West ...|        158|                  12284|                12575|\n",
      "|          Greenpoint|        112|                  11892|                11870|\n",
      "| Lincoln Square West|        143|                  11857|                11761|\n",
      "|Central Harlem North|         42|                   1606|                 1610|\n",
      "|       Midtown South|        164|                  14508|                14578|\n",
      "|  World Trade Center|        261|                   4323|                 4979|\n",
      "|  Brooklyn Navy Yard|         34|                   2095|                 2445|\n",
      "|Williamsburg (Sou...|        256|                  10470|                 9829|\n",
      "|         Boerum Hill|         25|                   9075|                10006|\n",
      "|Upper West Side N...|        238|                   8455|                 7873|\n",
      "|      Central Harlem|         41|                   7470|                 7598|\n",
      "| Little Italy/NoLiTa|        144|                  15338|                15449|\n",
      "|             Astoria|          7|                   5529|                 5598|\n",
      "|  Stuyvesant Heights|        225|                   2898|                 2665|\n",
      "|   East Harlem South|         75|                   8897|                 9055|\n",
      "|   Battery Park City|         13|                  12254|                12371|\n",
      "|        Battery Park|         12|                    771|                  836|\n",
      "|        Clinton Hill|         49|                   8999|                 7539|\n",
      "+--------------------+-----------+-----------------------+---------------------+\n",
      "only showing top 20 rows\n",
      "\n"
     ]
    }
   ],
   "source": [
    "df_trips_with_zones = szJoin.groupBy(\"zone\", \"location_id\")\\\n",
    "    .agg(F.sum(\"Trips started\")\\\n",
    "    .alias(\"Total zone trips starts\"),\\\n",
    "    F.sum(\"Trips ended\")\\\n",
    "    .alias(\"Total zone trips ends\"))\n",
    "df_trips_with_zones.show()"
   ]
  },
  {
   "cell_type": "code",
   "execution_count": 50,
   "metadata": {},
   "outputs": [
    {
     "name": "stdout",
     "output_type": "stream",
     "text": [
      "+--------------------+-----------+-----------------------+---------------------+\n",
      "|                zone|location_id|Total zone trips starts|Total zone trips ends|\n",
      "+--------------------+-----------+-----------------------+---------------------+\n",
      "|        East Village|         79|                  43333|                43170|\n",
      "|        East Chelsea|         68|                  38967|                39395|\n",
      "|         Murray Hill|        170|                  32572|                32578|\n",
      "|            Union Sq|        234|                  30527|                31464|\n",
      "|Greenwich Village...|        113|                  26485|                27054|\n",
      "|        Clinton East|         48|                  25364|                25241|\n",
      "|TriBeCa/Civic Center|        231|                  24744|                25350|\n",
      "|     Lower East Side|        148|                  23070|                23236|\n",
      "|            Flatiron|         90|                  22976|                23238|\n",
      "|    Garment District|        100|                  20281|                20334|\n",
      "|        Central Park|         43|                  19955|                18748|\n",
      "|West Chelsea/Huds...|        246|                  19421|                19613|\n",
      "|Williamsburg (Nor...|        255|                  17692|                18195|\n",
      "|            Kips Bay|        137|                  17324|                17095|\n",
      "|Two Bridges/Sewar...|        232|                  17224|                16851|\n",
      "|        West Village|        249|                  17214|                17607|\n",
      "|Penn Station/Madi...|        186|                  16754|                16720|\n",
      "|          Park Slope|        181|                  16025|                15517|\n",
      "|         Fort Greene|         97|                  15506|                16413|\n",
      "| Little Italy/NoLiTa|        144|                  15338|                15449|\n",
      "+--------------------+-----------+-----------------------+---------------------+\n",
      "only showing top 20 rows\n",
      "\n"
     ]
    }
   ],
   "source": [
    "df_trips_with_zones.sort(\"Total zone trips starts\", ascending=False).show()"
   ]
  },
  {
   "cell_type": "code",
   "execution_count": 51,
   "metadata": {},
   "outputs": [
    {
     "data": {
      "text/html": [
       "<div>\n",
       "<style scoped>\n",
       "    .dataframe tbody tr th:only-of-type {\n",
       "        vertical-align: middle;\n",
       "    }\n",
       "\n",
       "    .dataframe tbody tr th {\n",
       "        vertical-align: top;\n",
       "    }\n",
       "\n",
       "    .dataframe thead th {\n",
       "        text-align: right;\n",
       "    }\n",
       "</style>\n",
       "<table border=\"1\" class=\"dataframe\">\n",
       "  <thead>\n",
       "    <tr style=\"text-align: right;\">\n",
       "      <th></th>\n",
       "      <th>zone</th>\n",
       "      <th>location_id</th>\n",
       "      <th>Total zone trips starts</th>\n",
       "      <th>Total zone trips ends</th>\n",
       "    </tr>\n",
       "  </thead>\n",
       "  <tbody>\n",
       "    <tr>\n",
       "      <th>0</th>\n",
       "      <td>East Harlem North</td>\n",
       "      <td>74</td>\n",
       "      <td>7835.0</td>\n",
       "      <td>7889</td>\n",
       "    </tr>\n",
       "    <tr>\n",
       "      <th>1</th>\n",
       "      <td>Long Island City/Queens Plaza</td>\n",
       "      <td>146</td>\n",
       "      <td>2614.0</td>\n",
       "      <td>2569</td>\n",
       "    </tr>\n",
       "    <tr>\n",
       "      <th>2</th>\n",
       "      <td>Meatpacking/West Village West</td>\n",
       "      <td>158</td>\n",
       "      <td>12284.0</td>\n",
       "      <td>12575</td>\n",
       "    </tr>\n",
       "    <tr>\n",
       "      <th>3</th>\n",
       "      <td>Greenpoint</td>\n",
       "      <td>112</td>\n",
       "      <td>11892.0</td>\n",
       "      <td>11870</td>\n",
       "    </tr>\n",
       "    <tr>\n",
       "      <th>4</th>\n",
       "      <td>Lincoln Square West</td>\n",
       "      <td>143</td>\n",
       "      <td>11857.0</td>\n",
       "      <td>11761</td>\n",
       "    </tr>\n",
       "  </tbody>\n",
       "</table>\n",
       "</div>"
      ],
      "text/plain": [
       "                            zone location_id  Total zone trips starts  \\\n",
       "0              East Harlem North          74                   7835.0   \n",
       "1  Long Island City/Queens Plaza         146                   2614.0   \n",
       "2  Meatpacking/West Village West         158                  12284.0   \n",
       "3                     Greenpoint         112                  11892.0   \n",
       "4            Lincoln Square West         143                  11857.0   \n",
       "\n",
       "   Total zone trips ends  \n",
       "0                   7889  \n",
       "1                   2569  \n",
       "2                  12575  \n",
       "3                  11870  \n",
       "4                  11761  "
      ]
     },
     "execution_count": 51,
     "metadata": {},
     "output_type": "execute_result"
    }
   ],
   "source": [
    "trips_choro = df_trips_with_zones.toPandas()\n",
    "trips_choro.head()"
   ]
  },
  {
   "cell_type": "code",
   "execution_count": 55,
   "metadata": {},
   "outputs": [
    {
     "data": {
      "text/html": [
       "\n",
       "        <iframe\n",
       "            width=\"100%\"\n",
       "            height=\"750px\"\n",
       "            src=\"index.html\"\n",
       "            frameborder=\"0\"\n",
       "            allowfullscreen\n",
       "        ></iframe>\n",
       "        "
      ],
      "text/plain": [
       "<IPython.lib.display.IFrame at 0x7fee85cbbc70>"
      ]
     },
     "execution_count": 55,
     "metadata": {},
     "output_type": "execute_result"
    }
   ],
   "source": [
    "m1 = folium.Map()\n",
    "folium.Choropleth(\n",
    "    geo_data=zones_geojson,\n",
    "    data=trips_choro,\n",
    "    columns=[\"location_id\", \"Total zone trips starts\"],\n",
    "    name=\"Number of trip starts per zone\",\n",
    "    legend_name=\"Number of trip starts per zone\",\n",
    "    key_on=\"feature.properties.location_id\",\n",
    "    highlight=True,\n",
    "    nan_fill_color=\"black\",\n",
    "    nan_fill_opacity=0.1,\n",
    "    fill_color=\"YlOrRd\",\n",
    "    fill_opacity=0.5,\n",
    "    line_opacity=0.4,\n",
    ").add_to(m1)\n",
    "m1.fit_bounds(m1.get_bounds())\n",
    "embed_map(m1)"
   ]
  },
  {
   "cell_type": "code",
   "execution_count": 53,
   "metadata": {
    "scrolled": true
   },
   "outputs": [
    {
     "data": {
      "text/html": [
       "\n",
       "        <iframe\n",
       "            width=\"100%\"\n",
       "            height=\"750px\"\n",
       "            src=\"index.html\"\n",
       "            frameborder=\"0\"\n",
       "            allowfullscreen\n",
       "        ></iframe>\n",
       "        "
      ],
      "text/plain": [
       "<IPython.lib.display.IFrame at 0x7fee85c27d90>"
      ]
     },
     "execution_count": 53,
     "metadata": {},
     "output_type": "execute_result"
    }
   ],
   "source": [
    "m2 = folium.Map()\n",
    "\n",
    "folium.Choropleth(\n",
    "    geo_data=zones_geojson,\n",
    "    data=trips_choro,\n",
    "    columns=[\"location_id\", \"Total zone trips ends\"],\n",
    "    name=\"Number of trip ends per zone\",\n",
    "    legend_name=\"Number of trips ends per zone\",\n",
    "    key_on=\"feature.properties.location_id\",\n",
    "    highlight=True,\n",
    "    nan_fill_color=\"black\",\n",
    "    nan_fill_opacity=0.1,\n",
    "    fill_color=\"YlOrRd\",\n",
    "    fill_opacity=0.8,\n",
    "    line_opacity=0.4,\n",
    ").add_to(m2)\n",
    "m2.fit_bounds(m2.get_bounds())\n",
    "embed_map(m2)"
   ]
  },
  {
   "cell_type": "markdown",
   "metadata": {},
   "source": [
    "# Задание 3"
   ]
  },
  {
   "cell_type": "code",
   "execution_count": 62,
   "metadata": {},
   "outputs": [],
   "source": [
    "from math import cos, asin, sqrt\n",
    "def haversine_func(x1, y1, x2, y2):\n",
    "    p = 0.017453292519943295\n",
    "    a = 0.5 - cos((x2 - x1) * p)/2 + cos(x1 * p) * cos(x2 * p) * (1 - cos((y2 - y1) * p)) / 2\n",
    "    return 12742 * asin(sqrt(a))\n",
    "\n",
    "def distance(rows):\n",
    "    for row in rows:\n",
    "        if row[\"start station id\"] != row[\"end station id\"]:\n",
    "            distance = haversine_func(row[\"start station latitude\"],row[\"start station longitude\"],row[\"end station latitude\"], row[\"end station longitude\"])*1000\n",
    "            yield Row(**row.asDict(), Distance=distance)"
   ]
  },
  {
   "cell_type": "code",
   "execution_count": 63,
   "metadata": {},
   "outputs": [
    {
     "name": "stdout",
     "output_type": "stream",
     "text": [
      "+----------------+--------------------+--------------+--------------------+------------------+\n",
      "|start station id|  start station name|end station id|    end station name|          distance|\n",
      "+----------------+--------------------+--------------+--------------------+------------------+\n",
      "|            3494|E 115 St & Lexing...|          3501|E 118 St & Madiso...|430.16041257402225|\n",
      "|             438| St Marks Pl & 1 Ave|           236| St Marks Pl & 2 Ave|143.63994354824555|\n",
      "+----------------+--------------------+--------------+--------------------+------------------+\n",
      "only showing top 2 rows\n",
      "\n"
     ]
    }
   ],
   "source": [
    "df_trips_distance = df_trips.rdd.mapPartitions(distance).toDF()\\\n",
    "    .select(\"start station id\", \"start station name\", \"end station id\",\"end station name\", \"distance\")\\\n",
    "    .filter(F.col(\"start station id\") != F.col(\"end station id\"))\n",
    "df_trips_distance.show(2)"
   ]
  },
  {
   "cell_type": "code",
   "execution_count": 64,
   "metadata": {},
   "outputs": [
    {
     "name": "stdout",
     "output_type": "stream",
     "text": [
      "+----------------+--------------------+--------------+--------------------+------------------+\n",
      "|start station id|  start station name|end station id|    end station name|          distance|\n",
      "+----------------+--------------------+--------------+--------------------+------------------+\n",
      "|            3576|Park Pl & Vanderb...|          3547|Broadway & Moylan Pl|15326.431486590483|\n",
      "|            3537|Carlton Ave & Dea...|          3545| Broadway & W 122 St|14598.812101590232|\n",
      "|            3537|Carlton Ave & Dea...|          3545| Broadway & W 122 St|14598.812101590232|\n",
      "|            3377|Carroll St & Bond St|          3536| W 116 St & Broadway|14578.585483875455|\n",
      "|            3384|     Smith St & 3 St|          3552| W 113 St & Broadway|14389.392491567256|\n",
      "+----------------+--------------------+--------------+--------------------+------------------+\n",
      "only showing top 5 rows\n",
      "\n"
     ]
    }
   ],
   "source": [
    "df_trips_distance.select(\"start station id\", \"start station name\",\"end station id\", \"end station name\", \"distance\")\\\n",
    ".sort(\"distance\", ascending=False).show(5)"
   ]
  },
  {
   "cell_type": "code",
   "execution_count": 65,
   "metadata": {},
   "outputs": [
    {
     "name": "stdout",
     "output_type": "stream",
     "text": [
      "+----------------+--------------------+--------------+--------------------+-----------------+\n",
      "|start station id|  start station name|end station id|    end station name|         distance|\n",
      "+----------------+--------------------+--------------+--------------------+-----------------+\n",
      "|             517|Pershing Square S...|           519|Pershing Square N...|36.73587142648394|\n",
      "|             517|Pershing Square S...|           519|Pershing Square N...|36.73587142648394|\n",
      "|             519|Pershing Square N...|           517|Pershing Square S...|36.73587142648394|\n",
      "|             519|Pershing Square N...|           517|Pershing Square S...|36.73587142648394|\n",
      "|             519|Pershing Square N...|           517|Pershing Square S...|36.73587142648394|\n",
      "|             517|Pershing Square S...|           519|Pershing Square N...|36.73587142648394|\n",
      "|             519|Pershing Square N...|           517|Pershing Square S...|36.73587142648394|\n",
      "|             519|Pershing Square N...|           517|Pershing Square S...|36.73587142648394|\n",
      "|             517|Pershing Square S...|           519|Pershing Square N...|36.73587142648394|\n",
      "|             519|Pershing Square N...|           517|Pershing Square S...|36.73587142648394|\n",
      "|             519|Pershing Square N...|           517|Pershing Square S...|36.73587142648394|\n",
      "|             519|Pershing Square N...|           517|Pershing Square S...|36.73587142648394|\n",
      "|             519|Pershing Square N...|           517|Pershing Square S...|36.73587142648394|\n",
      "|             519|Pershing Square N...|           517|Pershing Square S...|36.73587142648394|\n",
      "|             519|Pershing Square N...|           517|Pershing Square S...|36.73587142648394|\n",
      "|             517|Pershing Square S...|           519|Pershing Square N...|36.73587142648394|\n",
      "|             519|Pershing Square N...|           517|Pershing Square S...|36.73587142648394|\n",
      "|             519|Pershing Square N...|           517|Pershing Square S...|36.73587142648394|\n",
      "|             519|Pershing Square N...|           517|Pershing Square S...|36.73587142648394|\n",
      "|             519|Pershing Square N...|           517|Pershing Square S...|36.73587142648394|\n",
      "+----------------+--------------------+--------------+--------------------+-----------------+\n",
      "only showing top 20 rows\n",
      "\n"
     ]
    }
   ],
   "source": [
    "df_trips_distance.select(\"start station id\", \"start station name\",\\\n",
    "                         \"end station id\", \"end station name\", \"distance\")\\\n",
    "                        .sort(\"distance\", ascending=True).show(5)"
   ]
  },
  {
   "cell_type": "code",
   "execution_count": 66,
   "metadata": {},
   "outputs": [
    {
     "name": "stdout",
     "output_type": "stream",
     "text": [
      "+------------------+\n",
      "|     max(distance)|\n",
      "+------------------+\n",
      "|15326.431486590483|\n",
      "+------------------+\n",
      "\n"
     ]
    }
   ],
   "source": [
    "# df_trips_sel = df_trips_distance.select(\"start station id\", \"start station name\",\\\n",
    "#                          \"end station id\", \"end station name\", \"distance\")\n",
    "df_trips_distance.select(F.max(\"distance\")).show()"
   ]
  },
  {
   "cell_type": "code",
   "execution_count": 67,
   "metadata": {},
   "outputs": [
    {
     "data": {
      "text/html": [
       "<div>\n",
       "<style scoped>\n",
       "    .dataframe tbody tr th:only-of-type {\n",
       "        vertical-align: middle;\n",
       "    }\n",
       "\n",
       "    .dataframe tbody tr th {\n",
       "        vertical-align: top;\n",
       "    }\n",
       "\n",
       "    .dataframe thead th {\n",
       "        text-align: right;\n",
       "    }\n",
       "</style>\n",
       "<table border=\"1\" class=\"dataframe\">\n",
       "  <thead>\n",
       "    <tr style=\"text-align: right;\">\n",
       "      <th></th>\n",
       "      <th>start station id</th>\n",
       "      <th>start station name</th>\n",
       "      <th>end station id</th>\n",
       "      <th>end station name</th>\n",
       "      <th>distance</th>\n",
       "    </tr>\n",
       "  </thead>\n",
       "  <tbody>\n",
       "    <tr>\n",
       "      <th>0</th>\n",
       "      <td>3494</td>\n",
       "      <td>E 115 St &amp; Lexington Ave</td>\n",
       "      <td>3501</td>\n",
       "      <td>E 118 St &amp; Madison Ave</td>\n",
       "      <td>430.160413</td>\n",
       "    </tr>\n",
       "    <tr>\n",
       "      <th>1</th>\n",
       "      <td>438</td>\n",
       "      <td>St Marks Pl &amp; 1 Ave</td>\n",
       "      <td>236</td>\n",
       "      <td>St Marks Pl &amp; 2 Ave</td>\n",
       "      <td>143.639944</td>\n",
       "    </tr>\n",
       "    <tr>\n",
       "      <th>2</th>\n",
       "      <td>3571</td>\n",
       "      <td>Bedford Ave &amp; Bergen St</td>\n",
       "      <td>3549</td>\n",
       "      <td>Grand Ave &amp; Bergen St</td>\n",
       "      <td>821.725136</td>\n",
       "    </tr>\n",
       "    <tr>\n",
       "      <th>3</th>\n",
       "      <td>167</td>\n",
       "      <td>E 39 St &amp; 3 Ave</td>\n",
       "      <td>477</td>\n",
       "      <td>W 41 St &amp; 8 Ave</td>\n",
       "      <td>1443.121686</td>\n",
       "    </tr>\n",
       "    <tr>\n",
       "      <th>4</th>\n",
       "      <td>3458</td>\n",
       "      <td>W 55 St &amp; 6 Ave</td>\n",
       "      <td>3443</td>\n",
       "      <td>W 52 St &amp; 6 Ave</td>\n",
       "      <td>231.949666</td>\n",
       "    </tr>\n",
       "  </tbody>\n",
       "</table>\n",
       "</div>"
      ],
      "text/plain": [
       "  start station id        start station name end station id  \\\n",
       "0             3494  E 115 St & Lexington Ave           3501   \n",
       "1              438       St Marks Pl & 1 Ave            236   \n",
       "2             3571   Bedford Ave & Bergen St           3549   \n",
       "3              167           E 39 St & 3 Ave            477   \n",
       "4             3458           W 55 St & 6 Ave           3443   \n",
       "\n",
       "         end station name     distance  \n",
       "0  E 118 St & Madison Ave   430.160413  \n",
       "1     St Marks Pl & 2 Ave   143.639944  \n",
       "2   Grand Ave & Bergen St   821.725136  \n",
       "3         W 41 St & 8 Ave  1443.121686  \n",
       "4         W 52 St & 6 Ave   231.949666  "
      ]
     },
     "execution_count": 67,
     "metadata": {},
     "output_type": "execute_result"
    }
   ],
   "source": [
    "df_trips_pandas = df_trips_distance.toPandas()\n",
    "df_trips_pandas.head()"
   ]
  },
  {
   "cell_type": "code",
   "execution_count": 68,
   "metadata": {},
   "outputs": [
    {
     "name": "stdout",
     "output_type": "stream",
     "text": [
      "+------------------+\n",
      "|     avg(distance)|\n",
      "+------------------+\n",
      "|1640.3749148416223|\n",
      "+------------------+\n",
      "\n"
     ]
    }
   ],
   "source": [
    "df_trips_distance.select(F.avg(\"distance\")).show()"
   ]
  },
  {
   "cell_type": "code",
   "execution_count": 69,
   "metadata": {},
   "outputs": [
    {
     "name": "stdout",
     "output_type": "stream",
     "text": [
      "+---------------------+\n",
      "|stddev_samp(distance)|\n",
      "+---------------------+\n",
      "|   1288.6771757096985|\n",
      "+---------------------+\n",
      "\n"
     ]
    }
   ],
   "source": [
    "df_trips_distance.select(F.stddev(\"distance\")).show()"
   ]
  },
  {
   "cell_type": "code",
   "execution_count": 71,
   "metadata": {},
   "outputs": [
    {
     "data": {
      "text/plain": [
       "1640.3749148415022"
      ]
     },
     "execution_count": 71,
     "metadata": {},
     "output_type": "execute_result"
    }
   ],
   "source": [
    "# df_trips_pandas[\"distance\"].median()"
   ]
  },
  {
   "cell_type": "code",
   "execution_count": 72,
   "metadata": {},
   "outputs": [
    {
     "data": {
      "text/plain": [
       "1288.6771757097122"
      ]
     },
     "execution_count": 72,
     "metadata": {},
     "output_type": "execute_result"
    }
   ],
   "source": [
    "# df_trips_pandas[\"distance\"].std()"
   ]
  },
  {
   "cell_type": "code",
   "execution_count": 73,
   "metadata": {},
   "outputs": [
    {
     "data": {
      "text/plain": [
       "1262.874571344554"
      ]
     },
     "execution_count": 73,
     "metadata": {},
     "output_type": "execute_result"
    }
   ],
   "source": [
    "# df_trips_pandas[\"distance\"].mean()"
   ]
  },
  {
   "cell_type": "code",
   "execution_count": 76,
   "metadata": {},
   "outputs": [
    {
     "data": {
      "text/plain": [
       "1262.87451171875"
      ]
     },
     "execution_count": 76,
     "metadata": {},
     "output_type": "execute_result"
    }
   ],
   "source": [
    "df_trips_distance.select(F.col(\"distance\").cast('float')).approxQuantile(\"distance\",[0.5],0)[0]"
   ]
  },
  {
   "cell_type": "markdown",
   "metadata": {},
   "source": [
    "4 задание"
   ]
  },
  {
   "cell_type": "code",
   "execution_count": 112,
   "metadata": {},
   "outputs": [
    {
     "name": "stdout",
     "output_type": "stream",
     "text": [
      "root\n",
      " |-- tripduration: integer (nullable = true)\n",
      " |-- starttime: string (nullable = true)\n",
      " |-- stoptime: string (nullable = true)\n",
      " |-- start station id: string (nullable = true)\n",
      " |-- start station name: string (nullable = true)\n",
      " |-- start station latitude: double (nullable = true)\n",
      " |-- start station longitude: double (nullable = true)\n",
      " |-- end station id: string (nullable = true)\n",
      " |-- end station name: string (nullable = true)\n",
      " |-- end station latitude: double (nullable = true)\n",
      " |-- end station longitude: double (nullable = true)\n",
      " |-- bikeid: integer (nullable = true)\n",
      " |-- usertype: string (nullable = true)\n",
      " |-- birth year: integer (nullable = true)\n",
      " |-- gender: integer (nullable = true)\n",
      "\n"
     ]
    }
   ],
   "source": [
    "df_trips.printSchema()"
   ]
  },
  {
   "cell_type": "code",
   "execution_count": 113,
   "metadata": {},
   "outputs": [
    {
     "name": "stdout",
     "output_type": "stream",
     "text": [
      "+----+----------+-----------+\n",
      "|s_id| starttime|count_start|\n",
      "+----+----------+-----------+\n",
      "| 119|2019-02-12|          4|\n",
      "| 119|2019-02-13|         11|\n",
      "| 119|2019-02-09|          2|\n",
      "| 119|2019-02-07|          9|\n",
      "| 119|2019-02-02|          5|\n",
      "| 119|2019-02-08|          6|\n",
      "| 119|2019-02-22|          2|\n",
      "| 119|2019-02-15|          7|\n",
      "| 119|2019-02-11|         15|\n",
      "| 119|2019-02-04|          5|\n",
      "| 119|2019-02-03|          5|\n",
      "| 119|2019-02-06|         11|\n",
      "| 119|2019-02-01|          6|\n",
      "| 119|2019-02-05|          9|\n",
      "| 119|2019-02-14|         11|\n",
      "| 119|2019-02-10|          2|\n",
      "| 119|2019-02-26|          7|\n",
      "| 119|2019-02-25|          5|\n",
      "| 119|2019-02-19|          6|\n",
      "| 119|2019-02-23|          3|\n",
      "+----+----------+-----------+\n",
      "only showing top 20 rows\n",
      "\n"
     ]
    }
   ],
   "source": [
    "df_start = df_trips.select(F.col(\"start station id\").alias(\"s_id\"), \\\n",
    "F.date_format(F.col(\"starttime\"),\"yyyy-MM-dd\").alias(\"starttime\"))\\\n",
    ".filter(\"s_id != 'NULL'\").groupBy(\"s_id\",\"starttime\").agg(F.count(\"starttime\").alias('count_start'))\n",
    "df_start.sort(\"s_id\").show()"
   ]
  },
  {
   "cell_type": "code",
   "execution_count": 114,
   "metadata": {},
   "outputs": [
    {
     "name": "stdout",
     "output_type": "stream",
     "text": [
      "+----+------+\n",
      "|s_id|   AVG|\n",
      "+----+------+\n",
      "| 119|  6.11|\n",
      "| 120| 21.18|\n",
      "| 127| 105.0|\n",
      "| 128| 94.25|\n",
      "| 143| 49.54|\n",
      "| 144| 15.75|\n",
      "| 146| 59.14|\n",
      "| 150| 62.61|\n",
      "| 151|134.68|\n",
      "| 157| 40.32|\n",
      "| 161| 92.93|\n",
      "| 164|  66.5|\n",
      "| 167| 95.11|\n",
      "| 168| 133.5|\n",
      "| 173|132.18|\n",
      "| 174| 87.32|\n",
      "| 195| 83.57|\n",
      "|2000|  48.0|\n",
      "|2002| 63.68|\n",
      "|2003|113.64|\n",
      "+----+------+\n",
      "only showing top 20 rows\n",
      "\n"
     ]
    }
   ],
   "source": [
    "df_start.groupBy('s_id').agg(F.count('s_id'), F.sum('count_start'))\\\n",
    ".select(F.col('s_id'),round(F.col('sum(count_start)')/ F.col('count(s_id)'),2).alias('AVG'))\\\n",
    ".sort('s_id').show()"
   ]
  },
  {
   "cell_type": "code",
   "execution_count": 115,
   "metadata": {},
   "outputs": [],
   "source": [
    "# Завершение поездок"
   ]
  },
  {
   "cell_type": "code",
   "execution_count": 116,
   "metadata": {},
   "outputs": [
    {
     "name": "stdout",
     "output_type": "stream",
     "text": [
      "+----+----------+-----------+\n",
      "|s_id| starttime|count_start|\n",
      "+----+----------+-----------+\n",
      "| 119|2019-02-12|          4|\n",
      "| 119|2019-02-13|         11|\n",
      "| 119|2019-02-09|          2|\n",
      "| 119|2019-02-07|          9|\n",
      "| 119|2019-02-02|          5|\n",
      "| 119|2019-02-08|          6|\n",
      "| 119|2019-02-22|          2|\n",
      "| 119|2019-02-15|          7|\n",
      "| 119|2019-02-11|         15|\n",
      "| 119|2019-02-04|          5|\n",
      "| 119|2019-02-03|          5|\n",
      "| 119|2019-02-06|         11|\n",
      "| 119|2019-02-01|          6|\n",
      "| 119|2019-02-05|          9|\n",
      "| 119|2019-02-14|         11|\n",
      "| 119|2019-02-10|          2|\n",
      "| 119|2019-02-26|          7|\n",
      "| 119|2019-02-25|          5|\n",
      "| 119|2019-02-19|          6|\n",
      "| 119|2019-02-23|          3|\n",
      "+----+----------+-----------+\n",
      "only showing top 20 rows\n",
      "\n"
     ]
    }
   ],
   "source": [
    "df_end = df_trips.select(F.col(\"end station id\").alias(\"s_id\"), \\\n",
    "F.date_format(F.col(\"stoptime\"),\"yyyy-MM-dd\").alias(\"stop_time\"))\\\n",
    ".filter(\"s_id != 'NULL'\").groupBy(\"s_id\",\"stop_time\").agg(F.count(\"stop_time\").alias('count_stop_time'))\n",
    "df_start.sort(\"s_id\").show()"
   ]
  },
  {
   "cell_type": "code",
   "execution_count": 117,
   "metadata": {},
   "outputs": [
    {
     "name": "stdout",
     "output_type": "stream",
     "text": [
      "+----+------+\n",
      "|s_id|   AVG|\n",
      "+----+------+\n",
      "| 119|  7.75|\n",
      "| 120| 18.71|\n",
      "| 127|103.79|\n",
      "| 128| 95.39|\n",
      "| 143| 49.29|\n",
      "| 144| 18.32|\n",
      "| 146| 59.75|\n",
      "| 150| 59.43|\n",
      "| 151|135.79|\n",
      "| 157| 41.54|\n",
      "| 161| 93.46|\n",
      "| 164| 66.43|\n",
      "| 167| 94.93|\n",
      "| 168|133.61|\n",
      "| 173|128.69|\n",
      "| 174| 86.18|\n",
      "| 195| 81.75|\n",
      "|2000| 54.89|\n",
      "|2002| 66.64|\n",
      "|2003|113.36|\n",
      "+----+------+\n",
      "only showing top 20 rows\n",
      "\n"
     ]
    }
   ],
   "source": [
    "df_end.groupBy('s_id').agg(F.count('s_id'), F.sum('count_stop_time'))\\\n",
    ".select(F.col('s_id'),round(F.col('sum(count_stop_time)')/ F.col('count(s_id)'),2).alias('AVG'))\\\n",
    ".sort('s_id').show()"
   ]
  },
  {
   "cell_type": "code",
   "execution_count": 118,
   "metadata": {},
   "outputs": [
    {
     "data": {
      "text/html": [
       "<div>\n",
       "<style scoped>\n",
       "    .dataframe tbody tr th:only-of-type {\n",
       "        vertical-align: middle;\n",
       "    }\n",
       "\n",
       "    .dataframe tbody tr th {\n",
       "        vertical-align: top;\n",
       "    }\n",
       "\n",
       "    .dataframe thead th {\n",
       "        text-align: right;\n",
       "    }\n",
       "</style>\n",
       "<table border=\"1\" class=\"dataframe\">\n",
       "  <thead>\n",
       "    <tr style=\"text-align: right;\">\n",
       "      <th></th>\n",
       "      <th>s_id</th>\n",
       "      <th>stop_time</th>\n",
       "      <th>count_stop_time</th>\n",
       "    </tr>\n",
       "  </thead>\n",
       "  <tbody>\n",
       "    <tr>\n",
       "      <th>0</th>\n",
       "      <td>3315</td>\n",
       "      <td>2019-02-01</td>\n",
       "      <td>27</td>\n",
       "    </tr>\n",
       "    <tr>\n",
       "      <th>1</th>\n",
       "      <td>363</td>\n",
       "      <td>2019-02-01</td>\n",
       "      <td>42</td>\n",
       "    </tr>\n",
       "    <tr>\n",
       "      <th>2</th>\n",
       "      <td>422</td>\n",
       "      <td>2019-02-01</td>\n",
       "      <td>35</td>\n",
       "    </tr>\n",
       "    <tr>\n",
       "      <th>3</th>\n",
       "      <td>3087</td>\n",
       "      <td>2019-02-01</td>\n",
       "      <td>25</td>\n",
       "    </tr>\n",
       "    <tr>\n",
       "      <th>4</th>\n",
       "      <td>3164</td>\n",
       "      <td>2019-02-01</td>\n",
       "      <td>52</td>\n",
       "    </tr>\n",
       "  </tbody>\n",
       "</table>\n",
       "</div>"
      ],
      "text/plain": [
       "   s_id   stop_time  count_stop_time\n",
       "0  3315  2019-02-01               27\n",
       "1   363  2019-02-01               42\n",
       "2   422  2019-02-01               35\n",
       "3  3087  2019-02-01               25\n",
       "4  3164  2019-02-01               52"
      ]
     },
     "execution_count": 118,
     "metadata": {},
     "output_type": "execute_result"
    }
   ],
   "source": [
    "_trip_end_ = df_end.toPandas()\n",
    "_trip_end_.head()"
   ]
  },
  {
   "cell_type": "code",
   "execution_count": 119,
   "metadata": {},
   "outputs": [
    {
     "data": {
      "text/html": [
       "<div>\n",
       "<style scoped>\n",
       "    .dataframe tbody tr th:only-of-type {\n",
       "        vertical-align: middle;\n",
       "    }\n",
       "\n",
       "    .dataframe tbody tr th {\n",
       "        vertical-align: top;\n",
       "    }\n",
       "\n",
       "    .dataframe thead th {\n",
       "        text-align: right;\n",
       "    }\n",
       "</style>\n",
       "<table border=\"1\" class=\"dataframe\">\n",
       "  <thead>\n",
       "    <tr style=\"text-align: right;\">\n",
       "      <th></th>\n",
       "      <th>s_id</th>\n",
       "      <th>starttime</th>\n",
       "      <th>count_start</th>\n",
       "    </tr>\n",
       "  </thead>\n",
       "  <tbody>\n",
       "    <tr>\n",
       "      <th>0</th>\n",
       "      <td>167</td>\n",
       "      <td>2019-02-01</td>\n",
       "      <td>76</td>\n",
       "    </tr>\n",
       "    <tr>\n",
       "      <th>1</th>\n",
       "      <td>3315</td>\n",
       "      <td>2019-02-01</td>\n",
       "      <td>34</td>\n",
       "    </tr>\n",
       "    <tr>\n",
       "      <th>2</th>\n",
       "      <td>3164</td>\n",
       "      <td>2019-02-01</td>\n",
       "      <td>97</td>\n",
       "    </tr>\n",
       "    <tr>\n",
       "      <th>3</th>\n",
       "      <td>363</td>\n",
       "      <td>2019-02-01</td>\n",
       "      <td>41</td>\n",
       "    </tr>\n",
       "    <tr>\n",
       "      <th>4</th>\n",
       "      <td>389</td>\n",
       "      <td>2019-02-01</td>\n",
       "      <td>20</td>\n",
       "    </tr>\n",
       "  </tbody>\n",
       "</table>\n",
       "</div>"
      ],
      "text/plain": [
       "   s_id   starttime  count_start\n",
       "0   167  2019-02-01           76\n",
       "1  3315  2019-02-01           34\n",
       "2  3164  2019-02-01           97\n",
       "3   363  2019-02-01           41\n",
       "4   389  2019-02-01           20"
      ]
     },
     "execution_count": 119,
     "metadata": {},
     "output_type": "execute_result"
    }
   ],
   "source": [
    "_trip_start_ = df_start.toPandas()\n",
    "_trip_start_.head()"
   ]
  },
  {
   "cell_type": "code",
   "execution_count": 128,
   "metadata": {},
   "outputs": [
    {
     "data": {
      "text/html": [
       "\n",
       "        <iframe\n",
       "            width=\"100%\"\n",
       "            height=\"750px\"\n",
       "            src=\"index.html\"\n",
       "            frameborder=\"0\"\n",
       "            allowfullscreen\n",
       "        ></iframe>\n",
       "        "
      ],
      "text/plain": [
       "<IPython.lib.display.IFrame at 0x7fee7c269460>"
      ]
     },
     "execution_count": 128,
     "metadata": {},
     "output_type": "execute_result"
    }
   ],
   "source": [
    "m3 = folium.Map()\n",
    "folium.Choropleth(\n",
    "    geo_data=zones_geojson,\n",
    "    data=_trip_start_,\n",
    "    columns=[\"s_id\", \"count_start\"],\n",
    "    name=\"trip start\",\n",
    "    key_on=\"feature.properties.location_id\",\n",
    "    highlight=True,\n",
    "    nan_fill_color=\"black\",\n",
    "    nan_fill_opacity=0.1,\n",
    "    fill_color=\"YlOrRd\",\n",
    "    fill_opacity=0.5,\n",
    "    line_opacity=0.4,\n",
    ").add_to(m3)\n",
    "m3.fit_bounds(m3.get_bounds())\n",
    "embed_map(m3)"
   ]
  },
  {
   "cell_type": "code",
   "execution_count": 129,
   "metadata": {},
   "outputs": [
    {
     "data": {
      "text/html": [
       "\n",
       "        <iframe\n",
       "            width=\"100%\"\n",
       "            height=\"750px\"\n",
       "            src=\"index.html\"\n",
       "            frameborder=\"0\"\n",
       "            allowfullscreen\n",
       "        ></iframe>\n",
       "        "
      ],
      "text/plain": [
       "<IPython.lib.display.IFrame at 0x7fee7dc345b0>"
      ]
     },
     "execution_count": 129,
     "metadata": {},
     "output_type": "execute_result"
    }
   ],
   "source": [
    "m4 = folium.Map()\n",
    "folium.Choropleth(\n",
    "    geo_data=zones_geojson,\n",
    "    data=_trip_end_,\n",
    "    columns=[\"s_id\", \"count_stop_time\"],\n",
    "    name=\"trip end\",\n",
    "    key_on=\"feature.properties.location_id\",\n",
    "    highlight=True,\n",
    "    nan_fill_color=\"black\",\n",
    "    nan_fill_opacity=0.1,\n",
    "    fill_color=\"YlOrRd\",\n",
    "    fill_opacity=0.5,\n",
    "    line_opacity=0.4,\n",
    ").add_to(m4)\n",
    "m4.fit_bounds(m4.get_bounds())\n",
    "embed_map(m4)"
   ]
  },
  {
   "cell_type": "code",
   "execution_count": null,
   "metadata": {},
   "outputs": [],
   "source": [
    "# sc.stop()"
   ]
  }
 ],
 "metadata": {
  "kernelspec": {
   "display_name": "Python 3",
   "language": "python",
   "name": "python3"
  },
  "language_info": {
   "codemirror_mode": {
    "name": "ipython",
    "version": 3
   },
   "file_extension": ".py",
   "mimetype": "text/x-python",
   "name": "python",
   "nbconvert_exporter": "python",
   "pygments_lexer": "ipython3",
   "version": "3.8.1"
  }
 },
 "nbformat": 4,
 "nbformat_minor": 2
}
